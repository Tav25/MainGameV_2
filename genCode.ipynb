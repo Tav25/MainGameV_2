{
 "cells": [
  {
   "cell_type": "code",
   "execution_count": 31,
   "id": "7c8440d0",
   "metadata": {},
   "outputs": [],
   "source": [
    "count = 1\n",
    "varName = 'indexFace'\n",
    "texName = varName"
   ]
  },
  {
   "cell_type": "code",
   "execution_count": 32,
   "id": "92e7f3d6",
   "metadata": {},
   "outputs": [],
   "source": [
    "texExport = ''\n",
    "texExport2 = ''\n",
    "arrayExp = ''\n",
    "i=0\n",
    "d = 0\n",
    "while i <= count-1:\n",
    "    d +=1\n",
    "    if d == 10:\n",
    "        per = '\\n'\n",
    "        d = 0\n",
    "    else:\n",
    "        per = '' \n",
    "    texExport = texExport + varName +str(i)+', ' + per\n",
    "    texExport2 = texExport2 + 'Textures.findFirst(\\''+texName +str(i)+'\\'), ' +per\n",
    "    arrayExp = arrayExp + varName +str(i)+', '  +per\n",
    "    i += 1\n",
    "\n",
    "        \n",
    "# print(texExport)"
   ]
  },
  {
   "cell_type": "code",
   "execution_count": 33,
   "id": "665638c0",
   "metadata": {},
   "outputs": [],
   "source": [
    "x = f'''const [\n",
    "{texExport}\n",
    "] = await Promise.all([\n",
    "{texExport2}\n",
    "])\n",
    "\n",
    "let texArray = [\n",
    "{arrayExp}\n",
    "] // {i} textures\n",
    "'''"
   ]
  },
  {
   "cell_type": "code",
   "execution_count": 34,
   "id": "1c061763",
   "metadata": {},
   "outputs": [
    {
     "name": "stdout",
     "output_type": "stream",
     "text": [
      "const [\n",
      "indexFace0, \n",
      "] = await Promise.all([\n",
      "Textures.findFirst('indexFace0'), \n",
      "])\n",
      "\n",
      "let texArray = [\n",
      "indexFace0, \n",
      "] // 1 textures\n",
      "\n"
     ]
    }
   ],
   "source": [
    "print(x)"
   ]
  },
  {
   "cell_type": "code",
   "execution_count": 39,
   "id": "59d56988",
   "metadata": {},
   "outputs": [],
   "source": [
    "count = 1\n",
    "varName = 'indexFace'\n",
    "texName = '_'+varName"
   ]
  },
  {
   "cell_type": "code",
   "execution_count": 40,
   "id": "d2e14a29",
   "metadata": {},
   "outputs": [],
   "source": [
    "texExport = ''\n",
    "texExport2 = ''\n",
    "varExport = ''\n",
    "arrayExp = ''\n",
    "objExport = ''\n",
    "i=0\n",
    "while i <= count-1:\n",
    "    varExport = varExport + ' '+ varName +str(i) \n",
    "    texExport = texExport + varName +str(i)+', '+texName +str(i)+', \\n'\n",
    "    texExport2 = texExport2 + 'Scene.root.findFirst(\\''+varName +str(i)+'\\'), Materials.findFirst(\\''+texName +str(i)+'\\'),\\n'\n",
    "    # arrayExp = arrayExp + varName +str(i)+', '\n",
    "    i += 1\n",
    "i=0\n",
    "while i <= count-1:\n",
    "    objExport = objExport + \"let \"+ varName +str(i)+\"Obj = new Osc.OnScene(\"+ varName +str(i)+\",\"+ texName +str(i)+\", texArray)\\n\" \n",
    "    i += 1\n",
    "# print(texExport)"
   ]
  },
  {
   "cell_type": "code",
   "execution_count": 41,
   "id": "808d47f6",
   "metadata": {},
   "outputs": [],
   "source": [
    "x = f'''//{varExport}\n",
    "\n",
    "const [\n",
    "{texExport}] = await Promise.all([\n",
    "{texExport2}]) // {i} obj and mat\n",
    "\n",
    "let texArray = [{arrayExp}]\n",
    "\n",
    "{objExport}\n",
    "\n",
    "'''"
   ]
  },
  {
   "cell_type": "code",
   "execution_count": 42,
   "id": "94c61d1e",
   "metadata": {},
   "outputs": [
    {
     "name": "stdout",
     "output_type": "stream",
     "text": [
      "// indexFace0\n",
      "\n",
      "const [\n",
      "indexFace0, _indexFace0, \n",
      "] = await Promise.all([\n",
      "Scene.root.findFirst('indexFace0'), Materials.findFirst('_indexFace0'),\n",
      "]) // 1 obj and mat\n",
      "\n",
      "let texArray = []\n",
      "\n",
      "let indexFace0Obj = new Osc.OnScene(indexFace0,_indexFace0, texArray)\n",
      "\n",
      "\n",
      "\n"
     ]
    }
   ],
   "source": [
    "print(x)"
   ]
  }
 ],
 "metadata": {
  "kernelspec": {
   "display_name": "Python 3 (ipykernel)",
   "language": "python",
   "name": "python3"
  },
  "language_info": {
   "codemirror_mode": {
    "name": "ipython",
    "version": 3
   },
   "file_extension": ".py",
   "mimetype": "text/x-python",
   "name": "python",
   "nbconvert_exporter": "python",
   "pygments_lexer": "ipython3",
   "version": "3.9.7"
  }
 },
 "nbformat": 4,
 "nbformat_minor": 5
}
