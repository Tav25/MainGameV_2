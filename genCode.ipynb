{
 "cells": [
  {
   "cell_type": "code",
   "execution_count": 30,
   "id": "7c8440d0",
   "metadata": {},
   "outputs": [],
   "source": [
    "count = 10\n",
    "varName = '_atherTexturesOtvetSize'\n",
    "texName = varName"
   ]
  },
  {
   "cell_type": "code",
   "execution_count": 31,
   "id": "92e7f3d6",
   "metadata": {},
   "outputs": [],
   "source": [
    "texExport = ''\n",
    "texExport2 = ''\n",
    "arrayExp = ''\n",
    "i=0\n",
    "d = 0\n",
    "while i <= count-1:\n",
    "    d +=1\n",
    "    if d == 10:\n",
    "        per = '\\n'\n",
    "        d = 0\n",
    "    else:\n",
    "        per = '' \n",
    "    texExport = texExport + varName +str(i)+', ' + per\n",
    "    texExport2 = texExport2 + 'Textures.findFirst(\\''+texName +str(i)+'\\'), ' +per\n",
    "    arrayExp = arrayExp + varName +str(i)+', '  +per\n",
    "    i += 1\n",
    "\n",
    "        \n",
    "# print(texExport)"
   ]
  },
  {
   "cell_type": "code",
   "execution_count": 32,
   "id": "665638c0",
   "metadata": {},
   "outputs": [],
   "source": [
    "x = f'''const [\n",
    "{texExport}\n",
    "] = await Promise.all([\n",
    "{texExport2}\n",
    "])\n",
    "\n",
    "let texArray = [\n",
    "{arrayExp}\n",
    "] // {i} textures\n",
    "'''"
   ]
  },
  {
   "cell_type": "code",
   "execution_count": 33,
   "id": "1c061763",
   "metadata": {},
   "outputs": [
    {
     "name": "stdout",
     "output_type": "stream",
     "text": [
      "const [\n",
      "_atherTexturesOtvetSize0, _atherTexturesOtvetSize1, _atherTexturesOtvetSize2, _atherTexturesOtvetSize3, _atherTexturesOtvetSize4, _atherTexturesOtvetSize5, _atherTexturesOtvetSize6, _atherTexturesOtvetSize7, _atherTexturesOtvetSize8, _atherTexturesOtvetSize9, \n",
      "\n",
      "] = await Promise.all([\n",
      "Textures.findFirst('_atherTexturesOtvetSize0'), Textures.findFirst('_atherTexturesOtvetSize1'), Textures.findFirst('_atherTexturesOtvetSize2'), Textures.findFirst('_atherTexturesOtvetSize3'), Textures.findFirst('_atherTexturesOtvetSize4'), Textures.findFirst('_atherTexturesOtvetSize5'), Textures.findFirst('_atherTexturesOtvetSize6'), Textures.findFirst('_atherTexturesOtvetSize7'), Textures.findFirst('_atherTexturesOtvetSize8'), Textures.findFirst('_atherTexturesOtvetSize9'), \n",
      "\n",
      "])\n",
      "\n",
      "let texArray = [\n",
      "_atherTexturesOtvetSize0, _atherTexturesOtvetSize1, _atherTexturesOtvetSize2, _atherTexturesOtvetSize3, _atherTexturesOtvetSize4, _atherTexturesOtvetSize5, _atherTexturesOtvetSize6, _atherTexturesOtvetSize7, _atherTexturesOtvetSize8, _atherTexturesOtvetSize9, \n",
      "\n",
      "] // 10 textures\n",
      "\n"
     ]
    }
   ],
   "source": [
    "print(x)"
   ]
  },
  {
   "cell_type": "code",
   "execution_count": 34,
   "id": "59d56988",
   "metadata": {},
   "outputs": [],
   "source": [
    "count = 2\n",
    "varName = 'scn_'\n",
    "texName = '_'+varName"
   ]
  },
  {
   "cell_type": "code",
   "execution_count": 35,
   "id": "d2e14a29",
   "metadata": {},
   "outputs": [],
   "source": [
    "texExport = ''\n",
    "texExport2 = ''\n",
    "varExport = ''\n",
    "arrayExp = ''\n",
    "objExport = ''\n",
    "i=0\n",
    "while i <= count-1:\n",
    "    varExport = varExport + ' '+ varName +str(i) \n",
    "    texExport = texExport + varName +str(i)+', '+texName +str(i)+', \\n'\n",
    "    texExport2 = texExport2 + 'Scene.root.findFirst(\\''+varName +str(i)+'\\'), Materials.findFirst(\\''+texName +str(i)+'\\'),\\n'\n",
    "#     arrayExp = arrayExp + varName +str(i)+', '\n",
    "    i += 1\n",
    "i=0\n",
    "while i <= count-1:\n",
    "    objExport = objExport + \"let \"+ varName +str(i)+\"Obj = new Osc.OnScene(\"+ varName +str(i)+\",\"+ texName +str(i)+\", texArray)\\n\" \n",
    "    i += 1\n",
    "# print(texExport)"
   ]
  },
  {
   "cell_type": "code",
   "execution_count": 36,
   "id": "808d47f6",
   "metadata": {},
   "outputs": [],
   "source": [
    "x = f'''//{varExport}\n",
    "\n",
    "const [\n",
    "{texExport}] = await Promise.all([\n",
    "{texExport2}]) // {i} obj and mat\n",
    "\n",
    "let texArray = []\n",
    "\n",
    "{objExport}\n",
    "\n",
    "'''"
   ]
  },
  {
   "cell_type": "code",
   "execution_count": 37,
   "id": "94c61d1e",
   "metadata": {},
   "outputs": [
    {
     "name": "stdout",
     "output_type": "stream",
     "text": [
      "// scn_0 scn_1\n",
      "\n",
      "const [\n",
      "scn_0, _scn_0, \n",
      "scn_1, _scn_1, \n",
      "] = await Promise.all([\n",
      "Scene.root.findFirst('scn_0'), Materials.findFirst('_scn_0'),\n",
      "Scene.root.findFirst('scn_1'), Materials.findFirst('_scn_1'),\n",
      "]) // 2 obj and mat\n",
      "\n",
      "let texArray = []\n",
      "\n",
      "let scn_0Obj = new Osc.OnScene(scn_0,_scn_0, texArray)\n",
      "let scn_1Obj = new Osc.OnScene(scn_1,_scn_1, texArray)\n",
      "\n",
      "\n",
      "\n"
     ]
    }
   ],
   "source": [
    "print(x)"
   ]
  },
  {
   "cell_type": "code",
   "execution_count": null,
   "id": "950949b6",
   "metadata": {},
   "outputs": [],
   "source": []
  }
 ],
 "metadata": {
  "kernelspec": {
   "display_name": "Python 3 (ipykernel)",
   "language": "python",
   "name": "python3"
  },
  "language_info": {
   "codemirror_mode": {
    "name": "ipython",
    "version": 3
   },
   "file_extension": ".py",
   "mimetype": "text/x-python",
   "name": "python",
   "nbconvert_exporter": "python",
   "pygments_lexer": "ipython3",
   "version": "3.9.6"
  }
 },
 "nbformat": 4,
 "nbformat_minor": 5
}
