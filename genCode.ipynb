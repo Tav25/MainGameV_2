{
 "cells": [
  {
   "cell_type": "code",
   "execution_count": 20,
   "id": "7c8440d0",
   "metadata": {},
   "outputs": [],
   "source": [
    "count = 10\n",
    "varName = 'topCaardTexture_'\n",
    "texName = varName"
   ]
  },
  {
   "cell_type": "code",
   "execution_count": 21,
   "id": "92e7f3d6",
   "metadata": {},
   "outputs": [],
   "source": [
    "texExport = ''\n",
    "texExport2 = ''\n",
    "arrayExp = ''\n",
    "i=0\n",
    "d = 0\n",
    "while i <= count-1:\n",
    "    d +=1\n",
    "    if d == 10:\n",
    "        per = '\\n'\n",
    "        d = 0\n",
    "    else:\n",
    "        per = '' \n",
    "    texExport = texExport + varName +str(i)+', ' + per\n",
    "    texExport2 = texExport2 + 'Textures.findFirst(\\''+texName +str(i)+'\\'), ' +per\n",
    "    arrayExp = arrayExp + varName +str(i)+', '  +per\n",
    "    i += 1\n",
    "\n",
    "        \n",
    "# print(texExport)"
   ]
  },
  {
   "cell_type": "code",
   "execution_count": 22,
   "id": "665638c0",
   "metadata": {},
   "outputs": [],
   "source": [
    "x = f'''const [\n",
    "{texExport}\n",
    "] = await Promise.all([\n",
    "{texExport2}\n",
    "])\n",
    "\n",
    "let texArray = [\n",
    "{arrayExp}\n",
    "] // {i} textures\n",
    "'''"
   ]
  },
  {
   "cell_type": "code",
   "execution_count": 23,
   "id": "1c061763",
   "metadata": {},
   "outputs": [
    {
     "name": "stdout",
     "output_type": "stream",
     "text": [
      "const [\n",
      "topCaardTexture_0, topCaardTexture_1, topCaardTexture_2, topCaardTexture_3, topCaardTexture_4, topCaardTexture_5, topCaardTexture_6, topCaardTexture_7, topCaardTexture_8, topCaardTexture_9, \n",
      "\n",
      "] = await Promise.all([\n",
      "Textures.findFirst('topCaardTexture_0'), Textures.findFirst('topCaardTexture_1'), Textures.findFirst('topCaardTexture_2'), Textures.findFirst('topCaardTexture_3'), Textures.findFirst('topCaardTexture_4'), Textures.findFirst('topCaardTexture_5'), Textures.findFirst('topCaardTexture_6'), Textures.findFirst('topCaardTexture_7'), Textures.findFirst('topCaardTexture_8'), Textures.findFirst('topCaardTexture_9'), \n",
      "\n",
      "])\n",
      "\n",
      "let texArray = [\n",
      "topCaardTexture_0, topCaardTexture_1, topCaardTexture_2, topCaardTexture_3, topCaardTexture_4, topCaardTexture_5, topCaardTexture_6, topCaardTexture_7, topCaardTexture_8, topCaardTexture_9, \n",
      "\n",
      "] // 10 textures\n",
      "\n"
     ]
    }
   ],
   "source": [
    "print(x)"
   ]
  },
  {
   "cell_type": "code",
   "execution_count": 24,
   "id": "59d56988",
   "metadata": {},
   "outputs": [],
   "source": [
    "count = 5\n",
    "varName = 'topCard'\n",
    "texName = '_'+varName"
   ]
  },
  {
   "cell_type": "code",
   "execution_count": 29,
   "id": "d2e14a29",
   "metadata": {},
   "outputs": [],
   "source": [
    "texExport = ''\n",
    "texExport2 = ''\n",
    "varExport = ''\n",
    "arrayExp = ''\n",
    "objExport = ''\n",
    "i=0\n",
    "while i <= count-1:\n",
    "    varExport = varExport + ' '+ varName +str(i) \n",
    "    texExport = texExport + varName +str(i)+', '+texName +str(i)+', \\n'\n",
    "    texExport2 = texExport2 + 'Scene.root.findFirst(\\''+varName +str(i)+'\\'), Materials.findFirst(\\''+texName +str(i)+'\\'),\\n'\n",
    "    # arrayExp = arrayExp + varName +str(i)+', '\n",
    "    i += 1\n",
    "i=0\n",
    "while i <= count-1:\n",
    "    objExport = objExport + \"let \"+ varName +str(i)+\"Obj = new Osc.OnScene(\"+ varName +str(i)+\",\"+ texName +str(i)+\", texArray)\\n\" \n",
    "    i += 1\n",
    "# print(texExport)"
   ]
  },
  {
   "cell_type": "code",
   "execution_count": 30,
   "id": "808d47f6",
   "metadata": {},
   "outputs": [],
   "source": [
    "x = f'''//{varExport}\n",
    "\n",
    "const [\n",
    "{texExport}] = await Promise.all([\n",
    "{texExport2}]) // {i} obj and mat\n",
    "\n",
    "let texArray = [{arrayExp}]\n",
    "\n",
    "{objExport}\n",
    "\n",
    "'''"
   ]
  },
  {
   "cell_type": "code",
   "execution_count": 31,
   "id": "94c61d1e",
   "metadata": {},
   "outputs": [
    {
     "name": "stdout",
     "output_type": "stream",
     "text": [
      "// topCard0 topCard1 topCard2 topCard3 topCard4\n",
      "\n",
      "const [\n",
      "topCard0, _topCard0, \n",
      "topCard1, _topCard1, \n",
      "topCard2, _topCard2, \n",
      "topCard3, _topCard3, \n",
      "topCard4, _topCard4, \n",
      "] = await Promise.all([\n",
      "Scene.root.findFirst('topCard0'), Materials.findFirst('_topCard0'),\n",
      "Scene.root.findFirst('topCard1'), Materials.findFirst('_topCard1'),\n",
      "Scene.root.findFirst('topCard2'), Materials.findFirst('_topCard2'),\n",
      "Scene.root.findFirst('topCard3'), Materials.findFirst('_topCard3'),\n",
      "Scene.root.findFirst('topCard4'), Materials.findFirst('_topCard4'),\n",
      "]) // 5 obj and mat\n",
      "\n",
      "let texArray = []\n",
      "\n",
      "let topCard0Obj = new Osc.OnScene(topCard0,_topCard0, texArray)\n",
      "let topCard1Obj = new Osc.OnScene(topCard1,_topCard1, texArray)\n",
      "let topCard2Obj = new Osc.OnScene(topCard2,_topCard2, texArray)\n",
      "let topCard3Obj = new Osc.OnScene(topCard3,_topCard3, texArray)\n",
      "let topCard4Obj = new Osc.OnScene(topCard4,_topCard4, texArray)\n",
      "\n",
      "\n",
      "\n"
     ]
    }
   ],
   "source": [
    "print(x)"
   ]
  },
  {
   "cell_type": "code",
   "execution_count": 32,
   "id": "7dc099e1",
   "metadata": {},
   "outputs": [
    {
     "name": "stdout",
     "output_type": "stream",
     "text": [
      "// topCard0 topCard1 topCard2 topCard3 topCard4\n",
      "\n",
      "const [\n",
      "topCard0, _topCard0, \n",
      "topCard1, _topCard1, \n",
      "topCard2, _topCard2, \n",
      "topCard3, _topCard3, \n",
      "topCard4, _topCard4, \n",
      "] = await Promise.all([\n",
      "Scene.root.findFirst('topCard0'), Materials.findFirst('_topCard0'),\n",
      "Scene.root.findFirst('topCard1'), Materials.findFirst('_topCard1'),\n",
      "Scene.root.findFirst('topCard2'), Materials.findFirst('_topCard2'),\n",
      "Scene.root.findFirst('topCard3'), Materials.findFirst('_topCard3'),\n",
      "Scene.root.findFirst('topCard4'), Materials.findFirst('_topCard4'),\n",
      "]) // 5 obj and mat\n",
      "\n",
      "let texArray = []\n",
      "\n",
      "let topCard0Obj = new Osc.OnScene(topCard0,_topCard0, texArray)\n",
      "let topCard1Obj = new Osc.OnScene(topCard1,_topCard1, texArray)\n",
      "let topCard2Obj = new Osc.OnScene(topCard2,_topCard2, texArray)\n",
      "let topCard3Obj = new Osc.OnScene(topCard3,_topCard3, texArray)\n",
      "let topCard4Obj = new Osc.OnScene(topCard4,_topCard4, texArray)\n",
      "\n",
      "\n",
      "\n"
     ]
    }
   ],
   "source": [
    "print(x)"
   ]
  },
  {
   "cell_type": "code",
   "execution_count": null,
   "id": "950949b6",
   "metadata": {},
   "outputs": [],
   "source": []
  }
 ],
 "metadata": {
  "kernelspec": {
   "display_name": "Python 3 (ipykernel)",
   "language": "python",
   "name": "python3"
  },
  "language_info": {
   "codemirror_mode": {
    "name": "ipython",
    "version": 3
   },
   "file_extension": ".py",
   "mimetype": "text/x-python",
   "name": "python",
   "nbconvert_exporter": "python",
   "pygments_lexer": "ipython3",
   "version": "3.9.7"
  }
 },
 "nbformat": 4,
 "nbformat_minor": 5
}
